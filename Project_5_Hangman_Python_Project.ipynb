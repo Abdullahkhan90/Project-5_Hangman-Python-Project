{
  "nbformat": 4,
  "nbformat_minor": 0,
  "metadata": {
    "colab": {
      "provenance": [],
      "authorship_tag": "ABX9TyMcxMH1AVUHolAuphLUYFvZ",
      "include_colab_link": true
    },
    "kernelspec": {
      "name": "python3",
      "display_name": "Python 3"
    },
    "language_info": {
      "name": "python"
    }
  },
  "cells": [
    {
      "cell_type": "markdown",
      "metadata": {
        "id": "view-in-github",
        "colab_type": "text"
      },
      "source": [
        "<a href=\"https://colab.research.google.com/github/Abdullahkhan90/Project-5_Hangman-Python-Project/blob/main/Project_5_Hangman_Python_Project.ipynb\" target=\"_parent\"><img src=\"https://colab.research.google.com/assets/colab-badge.svg\" alt=\"Open In Colab\"/></a>"
      ]
    },
    {
      "cell_type": "markdown",
      "source": [
        "## ***Project-5: Hangman-Python-Project***\n"
      ],
      "metadata": {
        "id": "5FhqE_X3QjIX"
      }
    },
    {
      "cell_type": "code",
      "source": [
        "import random\n",
        "words = ['enum', 'python', 'game', 'string', 'vscode', 'collab']\n",
        "\n",
        "word = random.choice(words)\n",
        "guessed_letters = []\n",
        "attempts = 6\n",
        "\n",
        "print(\"Welcome To Abdullah's Hangman Game\")\n",
        "print(\"_ \" * len(word))\n",
        "\n",
        "while attempts > 0:\n",
        "    guess = input(\"\\nGuess the letter: \").lower()\n",
        "\n",
        "    if len(guess) != 1 or not guess.isalpha():\n",
        "        print(\"Write 1 alphabet only!\")\n",
        "        continue\n",
        "\n",
        "    if guess in guessed_letters:\n",
        "       print(\"This letter is already guessed! Choose another letter\")\n",
        "       continue\n",
        "\n",
        "    guessed_letters.append(guess)\n",
        "\n",
        "    if guess in word:\n",
        "        print(\"Correct Guess!\")\n",
        "    else:\n",
        "        attempts -= 1\n",
        "        print(f\"Wrong! {attempts} attempts remaining.\")\n",
        "\n",
        "\n",
        "    displayed_word = \" \".join([letter if letter in guessed_letters else \"_\" for letter in word])\n",
        "    print(displayed_word)\n",
        "\n",
        "    if \"_\" not in displayed_word:\n",
        "        print(f\"Congratulations! The correct word is: {word}\")\n",
        "        break\n",
        "\n",
        "else:\n",
        "\n",
        "    print(f\"Game Over! The correct word is: {word}\")"
      ],
      "metadata": {
        "colab": {
          "base_uri": "https://localhost:8080/"
        },
        "id": "sMNNy9OpQqB_",
        "outputId": "f1aa443a-8619-4afd-944d-44dbd3cbb055"
      },
      "execution_count": 6,
      "outputs": [
        {
          "output_type": "stream",
          "name": "stdout",
          "text": [
            "Welcome To Abdullah's Hangman Game\n",
            "_ _ _ _ _ _ \n",
            "\n",
            "Guess the letter: e\n",
            "Correct Guess!\n",
            "_ _ _ _ _ e\n",
            "\n",
            "Guess the letter: d\n",
            "Correct Guess!\n",
            "_ _ _ _ d e\n",
            "\n",
            "Guess the letter: o\n",
            "Correct Guess!\n",
            "_ _ _ o d e\n",
            "\n",
            "Guess the letter: c\n",
            "Correct Guess!\n",
            "_ _ c o d e\n",
            "\n",
            "Guess the letter: s\n",
            "Correct Guess!\n",
            "_ s c o d e\n",
            "\n",
            "Guess the letter: v\n",
            "Correct Guess!\n",
            "v s c o d e\n",
            "Congratulations! The correct word is: vscode\n"
          ]
        }
      ]
    }
  ]
}